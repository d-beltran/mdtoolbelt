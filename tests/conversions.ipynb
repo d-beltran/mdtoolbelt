{
 "cells": [
  {
   "cell_type": "code",
   "execution_count": 1,
   "id": "interracial-genius",
   "metadata": {},
   "outputs": [],
   "source": [
    "from conversions import *\n",
    "\n",
    "input_structure_filename = 'test/npt_2.gro'\n",
    "output_structure_filename = 'test/test.pdb'\n",
    "input_trajectory_filename = 'test/md.imaged.rot.xtc'\n",
    "output_trajectory_filename = None"
   ]
  },
  {
   "cell_type": "code",
   "execution_count": 2,
   "id": "existing-oracle",
   "metadata": {},
   "outputs": [
    {
     "name": "stdout",
     "output_type": "stream",
     "text": [
      "Will write pdb: Protein data bank file\n",
      "Group     0 (         System) has 2210486 elements\n",
      "Group     1 (        Protein) has 48909 elements\n",
      "Group     2 (      Protein-H) has 37842 elements\n",
      "Group     3 (        C-alpha) has  4783 elements\n",
      "Group     4 (       Backbone) has 14349 elements\n",
      "Group     5 (      MainChain) has 19137 elements\n",
      "Group     6 (   MainChain+Cb) has 23628 elements\n",
      "Group     7 (    MainChain+H) has 23712 elements\n",
      "Group     8 (      SideChain) has 25197 elements\n",
      "Group     9 (    SideChain-H) has 18705 elements\n",
      "Group    10 (    Prot-Masses) has 48909 elements\n",
      "Group    11 (    non-Protein) has 2161577 elements\n",
      "Group    12 (          Other) has 11728 elements\n",
      "Group    13 (           MA2P) has  2429 elements\n",
      "Group    14 (           MA3P) has   273 elements\n",
      "Group    15 (           MB3P) has   273 elements\n",
      "Group    16 (           NGB4) has   714 elements\n",
      "Group    17 (           fA4P) has   611 elements\n",
      "Group    18 (            SIA) has  2350 elements\n",
      "Group    19 (           LB6P) has  1316 elements\n",
      "Group    20 (            NAG) has  3149 elements\n",
      "Group    21 (           MB6P) has   611 elements\n",
      "Group    22 (           ZN2+) has     2 elements\n",
      "Group    23 (            NA+) has  2206 elements\n",
      "Group    24 (            CL-) has  2064 elements\n",
      "Group    25 (          Water) has 2145579 elements\n",
      "Group    26 (            SOL) has 2145579 elements\n",
      "Group    27 (      non-Water) has 64907 elements\n",
      "Group    28 (            Ion) has  4270 elements\n",
      "Group    29 (           MA2P) has  2429 elements\n",
      "Group    30 (           MA3P) has   273 elements\n",
      "Group    31 (           MB3P) has   273 elements\n",
      "Group    32 (           NGB4) has   714 elements\n",
      "Group    33 (           fA4P) has   611 elements\n",
      "Group    34 (            SIA) has  2350 elements\n",
      "Group    35 (           LB6P) has  1316 elements\n",
      "Group    36 (            NAG) has  3149 elements\n",
      "Group    37 (           MB6P) has   611 elements\n",
      "Group    38 (           ZN2+) has     2 elements\n",
      "Group    39 (            NA+) has  2206 elements\n",
      "Group    40 (            CL-) has  2064 elements\n",
      "Group    41 ( Water_and_ions) has 2149849 elements\n",
      "Select a group: \n",
      "-------------------------------------------------------\n",
      "Program:     gmx trjconv, version 2020\n",
      "Source file: src/gromacs/topology/index.cpp (line 901)\n",
      "\n",
      "Fatal error:\n",
      "Cannot read from input\n",
      "\n",
      "For more information and tips for troubleshooting, please check the GROMACS\n",
      "website at http://www.gromacs.org/Documentation/Errors\n",
      "-------------------------------------------------------\n",
      "\n"
     ]
    },
    {
     "ename": "SystemExit",
     "evalue": "Something went wrong with Gromacs",
     "output_type": "error",
     "traceback": [
      "An exception has occurred, use %tb to see the full traceback.\n",
      "\u001b[0;31mSystemExit\u001b[0m\u001b[0;31m:\u001b[0m Something went wrong with Gromacs\n"
     ]
    },
    {
     "name": "stderr",
     "output_type": "stream",
     "text": [
      "/home/dbeltran_local/anaconda3/envs/test/lib/python3.6/site-packages/IPython/core/interactiveshell.py:3339: UserWarning: To exit: use 'exit', 'quit', or Ctrl-D.\n",
      "  warn(\"To exit: use 'exit', 'quit', or Ctrl-D.\", stacklevel=1)\n"
     ]
    }
   ],
   "source": [
    "convert(input_structure_filename, output_structure_filename, input_trajectory_filename, output_trajectory_filename)"
   ]
  },
  {
   "cell_type": "code",
   "execution_count": null,
   "id": "medical-observation",
   "metadata": {},
   "outputs": [],
   "source": []
  }
 ],
 "metadata": {
  "kernelspec": {
   "display_name": "Python 3",
   "language": "python",
   "name": "python3"
  },
  "language_info": {
   "codemirror_mode": {
    "name": "ipython",
    "version": 3
   },
   "file_extension": ".py",
   "mimetype": "text/x-python",
   "name": "python",
   "nbconvert_exporter": "python",
   "pygments_lexer": "ipython3",
   "version": "3.6.13"
  }
 },
 "nbformat": 4,
 "nbformat_minor": 5
}
