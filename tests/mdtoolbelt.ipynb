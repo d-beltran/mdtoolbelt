{
 "cells": [
  {
   "cell_type": "code",
   "execution_count": 1,
   "id": "9d1b4301",
   "metadata": {},
   "outputs": [
    {
     "data": {
      "text/plain": [
       "<module 'mdtoolbelt' from '/home/dbeltran_local/desktop/mdtoolbelt/mdtoolbelt/__init__.py'>"
      ]
     },
     "execution_count": 1,
     "metadata": {},
     "output_type": "execute_result"
    }
   ],
   "source": [
    "from mdtoolbelt.structures import Structure, calculate_distance\n",
    "\n",
    "from importlib import reload\n",
    "from sys import modules\n",
    "reload(modules['mdtoolbelt'])"
   ]
  },
  {
   "cell_type": "markdown",
   "id": "f594cde3",
   "metadata": {},
   "source": [
    "### Cargar una estrucutra"
   ]
  },
  {
   "cell_type": "code",
   "execution_count": 2,
   "id": "247c88db",
   "metadata": {},
   "outputs": [
    {
     "name": "stdout",
     "output_type": "stream",
     "text": [
      "Atoms: 20982\n",
      "Residues: 1297\n",
      "Chains: 8\n",
      "Chain A (933 residues)\n",
      " -> LQSADAQSFLNRVCGVSAARLTPCGTGTSTDVVYRAFDIYNDKVAGFAKFLKTNCCRFQEKDEDDNLIDSYFVVKRHTFSNYQHEETIYNLLKDCPAVAKHDFFKFRIDGDMVPHISRQRLTKYTMADLVYALRHFDEGNCDTLKEILVTYNCCDDDYFNKKDWYDFVENPDILRVYANLGERVRQALLKTVQFCDAMRNAGIVGVLTLDNQDLNGNWYDFGDFIQTTPGSGVPVVDSYYSLLMPILTLTRALTAESHVDTDLTKPYIKWDLLKYDFTEERLKLFDRYFKYWDQTYHPNCVNXLDDRXILHXANFNVLFSTVFPPTSFGPLVRKIFVDGVPFVVSTGYHFRELGVVHNQDVNLHSSRLSFKELLVYAADPAMHAASGNLLLDKRTTCFSVAALTNNVAFQTVKPGNFNKDFYDFAVSKGFFKEGSSVELKHFFFAQDGNAAISDYDYYRYNLPTMCDIRQLLFVVEVVDKYFDCYDGGXINANQVIVNNLDKSAGFPFNKWGKARLYYDSMSYEDQDALFAYTKRNVIPTITQMNLKYAISAKNRARTVAGVSICSTMTNRQFHQKLLKSIAATRGATVVIGTSKFYGGWHNMLKTVYSDVENPHLMGWDYPKCDRAMPNMLRIMASLVLARKHTTXXSLSHRFYRLANECAQVLSEMVMCGGSLYVKPGGTSSGDATTAYANSVFNICQAVTANVNALLSTDGNKIADKYVRNLQHRLYECLYRNRDVDTDFVNEFYAYLRKHFSMMILSDDAVVCFNSTYASQGLVASIKNFKSVLYYQNNVFMSEAKCWTETDLTKGPHEFCSQHTMLVKQGDDYVYLPYPDPSRILGAGCFVDDIVKTDGTLMIERFVSLAIDAYPLTKHPNQEYADVFHLYLQYIRKLHDELTGHMLDMYSVMLTNDNTSRYWEPEFYEAMYTPHTVL\n",
      "Chain B (122 residues)\n",
      " -> EDKRAKVTSAMQTMLFTMLRKLDNDALNNIINNARDGCVPLNIIPLTTAAKLMVVIPDYNTYKNTCDGTTFTYASALWEIQQVVDADSKIVQLSEISMDNSPNLAWPLIVTALRANSAVKLQ\n",
      "Chain C (83 residues)\n",
      " -> SKMSDVKCTSVVLLSVLQQLRVESSSKLWAQCVQLHNDILLAKDTTEAFEKMVSLLSVLLSMQGAVDINKLCEEMLDNRATLQ\n",
      "Chain D (122 residues)\n",
      " -> EDKRAKVTSAMQTMLFTMLRKLDNDALNNIINNARDGCVPLNIIPLTTAAKLMVVIPDYNTYKNTCDGTTFTYASALWEIQQVVDADSKIVQLSEISMDNSPNLAWPLIVTALRANSAVKLQ\n",
      "Chain E (4 residues)\n",
      " -> XXXX\n",
      "Chain G (1 residues)\n",
      " -> X\n",
      "Chain H (18 residues)\n",
      " -> CCAGUUCUCUCGUCCGGA\n",
      "Chain I (14 residues)\n",
      " -> GCCCGGACGAGAGA\n",
      "<Structure (20982 atoms)>\n"
     ]
    }
   ],
   "source": [
    "structure = Structure.from_pdb_file('md.imaged.rot.dry.pdb')\n",
    "structure.display_summary()\n",
    "print(structure)"
   ]
  },
  {
   "cell_type": "markdown",
   "id": "263f0b0c",
   "metadata": {},
   "source": [
    "### Seleccionar y filtrar átomos en la estructura"
   ]
  },
  {
   "cell_type": "code",
   "execution_count": 3,
   "id": "08cb576e",
   "metadata": {},
   "outputs": [
    {
     "name": "stdout",
     "output_type": "stream",
     "text": [
      "<Selection (3963 atoms)>\n",
      "Atoms: 3963\n",
      "Residues: 1289\n",
      "Chains: 7\n",
      "Chain A (932 residues)\n",
      " -> LQSADAQSFLNRVCGVSAARLTPCGTGTSTDVVYRAFDIYNDKVAGFAKFLKTNCCRFQEKDEDDNLIDSYFVVKRHTFSNYQHEETIYNLLKDCPAVAKHDFFKFRIDGDMVPHISRQRLTKYTMADLVYALRHFDEGNCDTLKEILVTYNCCDDDYFNKKDWYDFVENPDILRVYANLGERVRQALLKTVQFCDAMRNAGIVGVLTLDNQDLNGNWYDFGDFIQTTPGSGVPVVDSYYSLLMPILTLTRALTAESHVDTDLTKPYIKWDLLKYDFTEERLKLFDRYFKYWDQTYHPNCVNXLDDRXILHXANFNVLFSTVFPPTSFGPLVRKIFVDGVPFVVSTGYHFRELGVVHNQDVNLHSSRLSFKELLVYAADPAMHAASGNLLLDKRTTCFSVAALTNNVAFQTVKPGNFNKDFYDFAVSKGFFKEGSSVELKHFFFAQDGNAAISDYDYYRYNLPTMCDIRQLLFVVEVVDKYFDCYDGGXINANQVIVNNLDKSAGFPFNKWGKARLYYDSMSYEDQDALFAYTKRNVIPTITQMNLKYAISAKNRARTVAGVSICSTMTNRQFHQKLLKSIAATRGATVVIGTSKFYGGWHNMLKTVYSDVENPHLMGWDYPKCDRAMPNMLRIMASLVLARKHTTXXSLSHRFYRLANECAQVLSEMVMCGGSLYVKPGGTSSGDATTAYANSVFNICQAVTANVNALLSTDGNKIADKYVRNLQHRLYECLYRNRDVDTDFVNEFYAYLRKHFSMMILSDDAVVCFNSTYASQGLVASIKNFKSVLYYQNNVFMSEAKCWTETDLTKGPHEFCSQHTMLVKQGDDYVYLPYPDPSRILGAGCFVDDIVKTDGTLMIERFVSLAIDAYPLTKHPNQEYADVFHLYLQYIRKLHDELTGHMLDMYSVMLTNDNTSRYWEPEFYEAMYTPHTV\n",
      "Chain B (121 residues)\n",
      " -> EDKRAKVTSAMQTMLFTMLRKLDNDALNNIINNARDGCVPLNIIPLTTAAKLMVVIPDYNTYKNTCDGTTFTYASALWEIQQVVDADSKIVQLSEISMDNSPNLAWPLIVTALRANSAVKL\n",
      "Chain C (82 residues)\n",
      " -> SKMSDVKCTSVVLLSVLQQLRVESSSKLWAQCVQLHNDILLAKDTTEAFEKMVSLLSVLLSMQGAVDINKLCEEMLDNRATL\n",
      "Chain D (121 residues)\n",
      " -> EDKRAKVTSAMQTMLFTMLRKLDNDALNNIINNARDGCVPLNIIPLTTAAKLMVVIPDYNTYKNTCDGTTFTYASALWEIQQVVDADSKIVQLSEISMDNSPNLAWPLIVTALRANSAVKL\n",
      "Chain G (1 residues)\n",
      " -> X\n",
      "Chain H (18 residues)\n",
      " -> CCAGUUCUCUCGUCCGGA\n",
      "Chain I (14 residues)\n",
      " -> GCCCGGACGAGAGA\n"
     ]
    }
   ],
   "source": [
    "selection = structure.select(\"(protein and name N CA C) or (nucleic and name P O5' O3' C5' C4' C3')\", syntax='vmd')\n",
    "#selection = structure.select(\"wtf\", syntax='vmd')\n",
    "print(selection)\n",
    "reduced_structure = structure.filter(selection)\n",
    "reduced_structure.display_summary()\n",
    "reduced_structure.generate_pdb_file('test.pdb')"
   ]
  },
  {
   "cell_type": "markdown",
   "id": "9ef5c5a2",
   "metadata": {},
   "source": [
    "### Cacular distancia entre átomos"
   ]
  },
  {
   "cell_type": "code",
   "execution_count": 4,
   "id": "ea8d6b28",
   "metadata": {},
   "outputs": [
    {
     "name": "stdout",
     "output_type": "stream",
     "text": [
      "3.0283493853913193\n"
     ]
    }
   ],
   "source": [
    "sample_atom_1 = structure.atoms[0]\n",
    "sample_atom_2 = structure.atoms[17]\n",
    "atoms_distance = calculate_distance(sample_atom_1, sample_atom_2)\n",
    "print(atoms_distance)"
   ]
  },
  {
   "cell_type": "code",
   "execution_count": 5,
   "id": "d5183476",
   "metadata": {},
   "outputs": [
    {
     "name": "stdout",
     "output_type": "stream",
     "text": [
      "<Atom N>\n",
      "<Residue LEU1>\n",
      "<Chain A>\n"
     ]
    }
   ],
   "source": [
    "print(reduced_structure.atoms[0])\n",
    "print(reduced_structure.atoms[0].residue)\n",
    "print(reduced_structure.atoms[0].chain)"
   ]
  },
  {
   "cell_type": "code",
   "execution_count": null,
   "id": "b24151e1",
   "metadata": {},
   "outputs": [],
   "source": []
  }
 ],
 "metadata": {
  "kernelspec": {
   "display_name": "Python 3 (ipykernel)",
   "language": "python",
   "name": "python3"
  },
  "language_info": {
   "codemirror_mode": {
    "name": "ipython",
    "version": 3
   },
   "file_extension": ".py",
   "mimetype": "text/x-python",
   "name": "python",
   "nbconvert_exporter": "python",
   "pygments_lexer": "ipython3",
   "version": "3.7.12"
  }
 },
 "nbformat": 4,
 "nbformat_minor": 5
}
