{
 "cells": [
  {
   "cell_type": "code",
   "execution_count": 1,
   "id": "composed-receipt",
   "metadata": {},
   "outputs": [],
   "source": [
    "from mdtoolbelt.structures import Structure"
   ]
  },
  {
   "cell_type": "code",
   "execution_count": 2,
   "id": "greek-variance",
   "metadata": {},
   "outputs": [
    {
     "name": "stderr",
     "output_type": "stream",
     "text": [
      "@> 20982 atoms and 1 coordinate set(s) were parsed in 0.17s.\n",
      "/home/dbeltran_local/anaconda3/envs/mdtb/lib/vmd_LINUXAMD64: /usr/lib/x86_64-linux-gnu/libGL.so.1: no version information available (required by /home/dbeltran_local/anaconda3/envs/mdtb/lib/vmd_LINUXAMD64)\n"
     ]
    }
   ],
   "source": [
    "structure = Structure.from_pdb_file('md.imaged.rot.dry.pdb')\n",
    "selection = structure.select(\"(protein and name N CA C) or (nucleic and name P O5' O3' C5' C4' C3')\", syntax='vmd')\n",
    "reduced_structure = structure.filter(selection)\n",
    "reduced_structure.generate_pdb_file('test.pdb')"
   ]
  },
  {
   "cell_type": "code",
   "execution_count": 3,
   "id": "unavailable-intake",
   "metadata": {},
   "outputs": [
    {
     "name": "stdout",
     "output_type": "stream",
     "text": [
      "<Atom N>\n",
      "<Residue LEU1>\n",
      "<Chain A>\n"
     ]
    }
   ],
   "source": [
    "print(reduced_structure.atoms[0])\n",
    "print(reduced_structure.atoms[0].residue)\n",
    "print(reduced_structure.atoms[0].chain)"
   ]
  },
  {
   "cell_type": "code",
   "execution_count": null,
   "id": "75adc4c6",
   "metadata": {},
   "outputs": [],
   "source": []
  }
 ],
 "metadata": {
  "kernelspec": {
   "display_name": "Python 3 (ipykernel)",
   "language": "python",
   "name": "python3"
  },
  "language_info": {
   "codemirror_mode": {
    "name": "ipython",
    "version": 3
   },
   "file_extension": ".py",
   "mimetype": "text/x-python",
   "name": "python",
   "nbconvert_exporter": "python",
   "pygments_lexer": "ipython3",
   "version": "3.7.12"
  }
 },
 "nbformat": 4,
 "nbformat_minor": 5
}
