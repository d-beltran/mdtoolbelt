{
 "cells": [
  {
   "cell_type": "code",
   "execution_count": 1,
   "id": "composed-receipt",
   "metadata": {},
   "outputs": [],
   "source": [
    "from structures import *"
   ]
  },
  {
   "cell_type": "code",
   "execution_count": 2,
   "id": "greek-variance",
   "metadata": {},
   "outputs": [
    {
     "name": "stderr",
     "output_type": "stream",
     "text": [
      "@> 12584 atoms and 1 coordinate set(s) were parsed in 0.09s.\n"
     ]
    },
    {
     "data": {
      "text/plain": [
       "<Structure (12584 atoms)>"
      ]
     },
     "execution_count": 2,
     "metadata": {},
     "output_type": "execute_result"
    }
   ],
   "source": [
    "test = Structure.from_pdb_file('md.imaged.rot.dry.pdb')\n",
    "test"
   ]
  },
  {
   "cell_type": "code",
   "execution_count": 3,
   "id": "objective-compilation",
   "metadata": {},
   "outputs": [
    {
     "name": "stderr",
     "output_type": "stream",
     "text": [
      "@> 12584 atoms and 1 coordinate set(s) were parsed in 0.08s.\n"
     ]
    },
    {
     "name": "stdout",
     "output_type": "stream",
     "text": [
      "chain B\n",
      "Selection 'chain B'\n",
      "3000\n",
      "Selection 'chain B'\n",
      "3000\n"
     ]
    },
    {
     "data": {
      "text/plain": [
       "<Selection (3000 atoms)>"
      ]
     },
     "execution_count": 3,
     "metadata": {},
     "output_type": "execute_result"
    }
   ],
   "source": [
    "selection = test.select('chain B')\n",
    "selection"
   ]
  },
  {
   "cell_type": "code",
   "execution_count": 4,
   "id": "noted-million",
   "metadata": {},
   "outputs": [
    {
     "data": {
      "text/plain": [
       "<Structure (3000 atoms)>"
      ]
     },
     "execution_count": 4,
     "metadata": {},
     "output_type": "execute_result"
    }
   ],
   "source": [
    "filter_test = test.filter(selection)\n",
    "filter_test"
   ]
  },
  {
   "cell_type": "code",
   "execution_count": 5,
   "id": "unavailable-intake",
   "metadata": {},
   "outputs": [
    {
     "name": "stdout",
     "output_type": "stream",
     "text": [
      "<Atom N>\n",
      "<Residue ASN600>\n",
      "<Chain B>\n"
     ]
    }
   ],
   "source": [
    "print(filter_test.atoms[0])\n",
    "print(filter_test.atoms[0].residue)\n",
    "print(filter_test.atoms[0].chain)"
   ]
  },
  {
   "cell_type": "markdown",
   "id": "regulated-exclusion",
   "metadata": {},
   "source": []
  }
 ],
 "metadata": {
  "kernelspec": {
   "display_name": "Python 3",
   "language": "python",
   "name": "python3"
  },
  "language_info": {
   "codemirror_mode": {
    "name": "ipython",
    "version": 3
   },
   "file_extension": ".py",
   "mimetype": "text/x-python",
   "name": "python",
   "nbconvert_exporter": "python",
   "pygments_lexer": "ipython3",
   "version": "3.6.13"
  }
 },
 "nbformat": 4,
 "nbformat_minor": 5
}
